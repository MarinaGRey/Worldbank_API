{
  "cells": [
    {
      "cell_type": "markdown",
      "source": [
        "<img src=\"https://www.uc3m.es/ss/Satellite?blobcol=urldata&blobkey=id&blobtable=MungoBlobs&blobwhere=1371573952659\">\n",
        "\n",
        "\n",
        "---\n",
        "\n",
        "\n",
        "# **WEB ANALYTICS COURSE 4 - SEMESTER 2**\n",
        "# **BACHELOR IN DATA SCIENCE AND ENGINEERING**\n",
        "\n",
        "# **LAB 1 APIs - WORLD BANK**\n"
      ],
      "metadata": {
        "id": "kOG232dEHQkj"
      },
      "id": "kOG232dEHQkj"
    },
    {
      "cell_type": "markdown",
      "source": [
        "Made by:\n",
        "\n",
        "### Marina Gómez Rey (100472836)\n",
        "### María Ángeles Magro Garrote (100472867)\n",
        "### Sara Piñas García (100472784)\n",
        "### Eduardo González Agüero (100472704)"
      ],
      "metadata": {
        "id": "X91w8iki8Ow-"
      },
      "id": "X91w8iki8Ow-"
    },
    {
      "cell_type": "markdown",
      "source": [
        "# 0. LAB PREPARATION\n",
        "\n",
        "Students have to complete the following tasks before attedning the lab:\n",
        "\n",
        "1. **Read and study the API documentation to have some initial notions of the functionality of the World Bank API. Following, we share several links to the documentation related to the World Bank API:**\n",
        "- https://datahelpdesk.worldbank.org/knowledgebase/articles/898581-api-basic-call-structures\n",
        "- https://datahelpdesk.worldbank.org/knowledgebase/topics/125589-developer-information\n",
        "- https://datahelpdesk.worldbank.org/knowledgebase/articles/889392-about-the-indicators-api-documentation\n",
        "\n",
        "2. **The key element of the World Bank API are the \"indicators\". Next, we share a link that may simplify the search of indicators through a search tool. Once you have selected an indicator you can find its codification within the url bar of the browser.**\n",
        "\n",
        "- https://data.worldbank.org/indicator?tab=featured\n",
        "\n",
        "# **1. INTRODUCTION**\n",
        "\n",
        "* The goal of this lab is to gain experience testing a widely-used API such as the World Bank API that includes bunch of information about countries indicators in economy, health, education, agriculture, etc.\n",
        "\n",
        "* The lab includes 5 milestones that will drive the student through the use of several indicators.  \n",
        "\n",
        "* The lab will be done in groups of 23 students.\n",
        "\n",
        "* The lab will use two complete consecutive sessions (4 hours). The students are expected to complete the 5 milestones proposed in the lab within these 2 sessions\n",
        "\n",
        "* **The final mark will be computed as a function of the number of milestones successfully completed.**\n",
        "\n",
        "* **Each group should also upload their lab notebook in the corresponding task in Aula Global.**\n",
        "\n",
        "* Upon completing all the milestones, students should call the professor, who will check the correctness of the solution. Partial milestones checks may be allowed in some cases.\n",
        "\n",
        "# 2. **MILESTONES**\n",
        "\n",
        "In this section we describe one by one the milestones and leave a space to the students to implement the code to complete the requested task.\n",
        "\n",
        "**NOTE: Unless otherwise stated, all the milestones have to deliver information about countries. Therefore, you should not consider regions or any othre aggreated information in your analysis.**"
      ],
      "metadata": {
        "id": "Ry19wO8LIsr9"
      },
      "id": "Ry19wO8LIsr9"
    },
    {
      "cell_type": "markdown",
      "source": [
        "# **2.1. MILESTONE 1: POPULATION**:\n",
        "Retrieve the 2022 countries' population and show the Top 10 countries and the Bottom 10 countries within the World Bank database.\n",
        "\n"
      ],
      "metadata": {
        "id": "WGN71hXJvQoG"
      },
      "id": "WGN71hXJvQoG"
    },
    {
      "cell_type": "markdown",
      "source": [],
      "metadata": {
        "id": "mdUq3srWHN0Y"
      },
      "id": "mdUq3srWHN0Y"
    },
    {
      "cell_type": "code",
      "source": [
        "import requests\n",
        "import pandas as pd\n",
        "\n",
        "# URL para obtener la lista de países\n",
        "url = \"https://api.worldbank.org/v2/country/all?format=json&per_page=296\"\n",
        "\n",
        "# Hacer la petición para obtener los países\n",
        "countries = requests.get(url).json()[1]\n",
        "\n",
        "# Filtrar solo los códigos de los países válidos (excluir agregados)\n",
        "country_codes = [\n",
        "    c['id'] for c in countries\n",
        "    if c['region']['value'] != \"Aggregates\" and c[\"capitalCity\"] != \"\" and \")\" not in c[\"name\"]\n",
        "]\n",
        "\n",
        "# URL para obtener datos de población en 2022 para todos los países\n",
        "pop_url = f\"https://api.worldbank.org/v2/country/all/indicator/SP.POP.TOTL?date=2022&format=json&per_page=30000\"\n",
        "\n",
        "# Hacer la petición para obtener los datos de población\n",
        "pop_response = requests.get(pop_url).json()\n",
        "\n",
        "# Filtrar solo los datos de población para los códigos de país válidos\n",
        "population_data = [\n",
        "    {\n",
        "        'country_code': entry['countryiso3code'],\n",
        "        'country_name': entry['country']['value'],\n",
        "        'population': entry['value']\n",
        "    }\n",
        "    for entry in pop_response[1]\n",
        "    if entry['countryiso3code'] in country_codes\n",
        "]\n",
        "\n",
        "# Crear DataFrame, eliminar valores nulos y ordenar por población\n",
        "df = pd.DataFrame(population_data).dropna().sort_values(by='population', ascending=False)\n",
        "\n",
        "# Mostrar los 10 países con mayor y menor población\n",
        "print(\"Top 10 Countries by Population in 2022:\\n\", df.head(10))\n",
        "print(\"\\nBottom 10 Countries by Population in 2022:\\n\", df.tail(10))\n"
      ],
      "metadata": {
        "id": "ZHh5quMhHL0I",
        "colab": {
          "base_uri": "https://localhost:8080/"
        },
        "outputId": "e19ab65d-9c3c-46f8-8686-571b061a4d51"
      },
      "id": "ZHh5quMhHL0I",
      "execution_count": 1,
      "outputs": [
        {
          "output_type": "stream",
          "name": "stdout",
          "text": [
            "Top 10 Countries by Population in 2022:\n",
            "     country_code        country_name  population\n",
            "86           IND               India  1417173173\n",
            "40           CHN               China  1412175000\n",
            "199          USA       United States   333271411\n",
            "87           IDN           Indonesia   275501339\n",
            "144          PAK            Pakistan   235824862\n",
            "139          NGA             Nigeria   218541212\n",
            "26           BRA              Brazil   215313498\n",
            "15           BGD          Bangladesh   171186372\n",
            "156          RUS  Russian Federation   144236933\n",
            "122          MEX              Mexico   127504125\n",
            "\n",
            "Bottom 10 Countries by Population in 2022:\n",
            "     country_code              country_name  population\n",
            "193          TCA  Turks and Caicos Islands       45703\n",
            "3            ASM            American Samoa       44273\n",
            "119          MHL          Marshall Islands       41569\n",
            "110          LIE             Liechtenstein       39327\n",
            "125          MCO                    Monaco       36469\n",
            "159          SMR                San Marino       33660\n",
            "27           VGB    British Virgin Islands       31305\n",
            "145          PLW                     Palau       18055\n",
            "132          NRU                     Nauru       12668\n",
            "194          TUV                    Tuvalu       11312\n"
          ]
        }
      ]
    },
    {
      "cell_type": "markdown",
      "source": [
        "# **2.2. MILESTONE 2: WOMEN Vs. MEN POPULATION**:\n",
        "Obtain the % of men and women for each country and compute the difference among them using the formula %women - %men. Display:\n",
        "\n",
        "1- The number of countries with more women than men.\n",
        "\n",
        "2- The number of countries with more men than women\n",
        "\n",
        "3- The 10 countries with more women compared to men (ten countries with the largest positive value of the previous metric)\n",
        "\n",
        "- The 10 countries with more men compared to women (ten countries with the largest negative value of the previous metric).\n",
        "\n",
        "**Note**: You can use the indicator the absolute number of men and women from the World Bank API and compute the % for each country and the difference, or you can use the indicator given directly the %.\n",
        "\n"
      ],
      "metadata": {
        "id": "RoZs2zuFC3sN"
      },
      "id": "RoZs2zuFC3sN"
    },
    {
      "cell_type": "code",
      "source": [
        "import requests\n",
        "import pandas as pd\n",
        "\n",
        "# URL para obtener la lista de países\n",
        "url = \"https://api.worldbank.org/v2/country/all?format=json&per_page=296\"\n",
        "\n",
        "# Hacer la petición para obtener los países\n",
        "countries = requests.get(url).json()[1]\n",
        "\n",
        "# Filtrar solo los códigos de los países válidos (excluir agregados)\n",
        "country_codes = [\n",
        "    c['id'] for c in countries\n",
        "    if c['region']['value'] != \"Aggregates\" and c[\"capitalCity\"] != \"\" and \")\" not in c[\"name\"]\n",
        "]\n",
        "\n",
        "# URL para obtener datos de población por género en 2022 para todos los países\n",
        "pop_gender_url = f\"https://api.worldbank.org/v2/country/all/indicator/SP.POP.TOTL.FE.ZS?date=2022&format=json&per_page=30000\"\n",
        "\n",
        "# Hacer la petición para obtener los datos de población por género (mujeres)\n",
        "response_women = requests.get(pop_gender_url).json()[1]\n",
        "\n",
        "# URL para obtener datos de población por género en 2022 para hombres\n",
        "pop_gender_url_men = f\"https://api.worldbank.org/v2/country/all/indicator/SP.POP.TOTL.MA.ZS?date=2022&format=json&per_page=30000\"\n",
        "\n",
        "# Hacer la petición para obtener los datos de población por género (hombres)\n",
        "response_men = requests.get(pop_gender_url_men).json()[1]\n",
        "\n",
        "# Crear un DataFrame para almacenar los datos\n",
        "gender_data = []\n",
        "\n",
        "# Recopilar datos de hombres y mujeres\n",
        "for entry_women in response_women:\n",
        "    if entry_women['countryiso3code'] in country_codes:\n",
        "        gender_data.append({\n",
        "            'country_name': entry_women['country']['value'],\n",
        "            'percent_women': entry_women['value'],\n",
        "            'percent_men': next(\n",
        "                (entry_men['value'] for entry_men in response_men if entry_men['countryiso3code'] == entry_women['countryiso3code']),\n",
        "                None\n",
        "            )\n",
        "        })\n",
        "\n",
        "# Crear DataFrame\n",
        "df_gender = pd.DataFrame(gender_data)\n",
        "\n",
        "# Calcular la diferencia en los porcentajes\n",
        "df_gender['difference'] = df_gender['percent_women'] - df_gender['percent_men']\n",
        "\n",
        "# Contar países con más mujeres que hombres (valor positivo)\n",
        "countries_more_women = df_gender[df_gender['difference'] > 0].shape[0]\n",
        "print(f\"Number of countries with more women than men: {countries_more_women}\")\n",
        "\n",
        "# Contar países con más hombres que mujeres (valor negativo)\n",
        "countries_more_men = df_gender[df_gender['difference'] < 0].shape[0]\n",
        "print(f\"Number of countries with more men than women: {countries_more_men}\")\n",
        "\n",
        "# Ordenar para obtener el top 10 en ambos casos\n",
        "top_10_more_women = df_gender.sort_values(by='difference', ascending=False).head(10)\n",
        "print(\"Top 10 countries with more women than men:\")\n",
        "print(top_10_more_women[['country_name', 'difference']])\n",
        "\n",
        "top_10_more_men = df_gender.sort_values(by='difference', ascending=True).head(10)\n",
        "print(\"Top 10 countries with more men than women:\")\n",
        "print(top_10_more_men[['country_name', 'difference']])\n"
      ],
      "metadata": {
        "colab": {
          "base_uri": "https://localhost:8080/"
        },
        "id": "8OY5uQhy37HB",
        "outputId": "39414042-6e8c-40a8-abfb-cbe1b4696114"
      },
      "id": "8OY5uQhy37HB",
      "execution_count": 2,
      "outputs": [
        {
          "output_type": "stream",
          "name": "stdout",
          "text": [
            "Number of countries with more women than men: 128\n",
            "Number of countries with more men than women: 80\n",
            "Top 10 countries with more women than men:\n",
            "           country_name  difference\n",
            "8               Armenia   10.081429\n",
            "196             Ukraine    8.161847\n",
            "17              Belarus    7.912183\n",
            "105              Latvia    7.230537\n",
            "156  Russian Federation    7.115055\n",
            "111           Lithuania    6.063042\n",
            "71              Georgia    5.992546\n",
            "9                 Aruba    5.729720\n",
            "153         Puerto Rico    5.661284\n",
            "152            Portugal    5.632719\n",
            "Top 10 countries with more men than women:\n",
            "                 country_name  difference\n",
            "154                     Qatar  -45.020003\n",
            "197      United Arab Emirates  -38.706801\n",
            "14                    Bahrain  -23.920466\n",
            "143                      Oman  -21.735691\n",
            "102                    Kuwait  -21.622147\n",
            "161              Saudi Arabia  -15.242590\n",
            "116                  Maldives  -15.052684\n",
            "141  Northern Mariana Islands   -7.505398\n",
            "22                     Bhutan   -5.802890\n",
            "59          Equatorial Guinea   -5.549200\n"
          ]
        }
      ]
    },
    {
      "cell_type": "markdown",
      "source": [
        "## **2.3. MILESTONE 3: GDP PER CAPITA ACCORDING FOR INCOME LEVEL GROUPS**:\n",
        "\n",
        "Compute the average increase/decrease in percentage for the GDP per capita in US dollars in the following two periods: 2000-2022 and  2010-2022, GDPfor the following income groups: low-income economies, lower-middle-income economies, middle economies, upper-middle-income economies and high-income economies. The following, link provides information of the different country aggregations carried out by the World Bank.  \n",
        "\n",
        "https://datahelpdesk.worldbank.org/knowledgebase/articles/906519-world-bank-country-and-lending-groups\n",
        "\n",
        " You should compute the %GDP increase as follows. Given country A with a PIB Per Capita \\$20000 in 2000 and \\$30000 in 2022 the increase/decrease should be computed as follow:\n",
        "\n",
        "%GDP increase = 100*(30000-20000)/20000=50%.\n"
      ],
      "metadata": {
        "id": "YidJbEth0kM6"
      },
      "id": "YidJbEth0kM6"
    },
    {
      "cell_type": "code",
      "source": [
        "income_groups = ['LIC', 'LMC', 'MIC', 'UMC', 'HIC']  # Low-income, Lower-middle-income, Middle-income, Upper-middle-income, High-income\n",
        "\n",
        "# We get the new url taking the GPD and the defined groupe and take the years that are asked\n",
        "def get_gdp_data(group):\n",
        "    url = f\"https://api.worldbank.org/v2/country/{group}/indicator/NY.GDP.PCAP.CD?date=2000:2022&format=json&per_page=1000\"\n",
        "    response = requests.get(url)\n",
        "    data = response.json()[1]\n",
        "    df = pd.DataFrame(data)[['country', 'date', 'value']]\n",
        "    df['country'] = df['country'].apply(lambda x: x['value'])\n",
        "\n",
        "    # We take the numeric value to take the gpd data\n",
        "    df['value'] = pd.to_numeric(df['value'])\n",
        "    return df\n",
        "\n",
        "# Function to calculate the change in the gpd with the start and end years\n",
        "# as we have two different periods\n",
        "def calculate_gdp_change(df, start_year, end_year):\n",
        "    df_start = df[df['date'] == str(start_year)]\n",
        "    df_end = df[df['date'] == str(end_year)]\n",
        "\n",
        "    # To differentiate the start and end years, we add the suffixes\n",
        "    df_combined = pd.merge(df_start, df_end, on='country', suffixes=('_start', '_end'))\n",
        "\n",
        "    # We apply the given formula to calculate the change in the GPD\n",
        "    df_combined['gdp_change'] = 100 * (df_combined['value_end'] - df_combined['value_start']) / df_combined['value_start']\n",
        "\n",
        "    # We return the mean of that group\n",
        "    return df_combined['gdp_change'].mean()\n",
        "\n",
        "# Calculate the change in the countries with the countries in the income_groups to\n",
        "# not take the aggregates and save them in a list\n",
        "results = []\n",
        "for group in income_groups:\n",
        "    df = get_gdp_data(group)\n",
        "\n",
        "    # Define the two given periods and calculate the percentage of change with the funct\n",
        "    for period in [(2000, 2022), (2010, 2022)]:\n",
        "        avg_change = calculate_gdp_change(df, period[0], period[1])\n",
        "        results.append({'Income Group': group, 'Period': f\"{period[0]}-{period[1]}\", 'Avg GDP % Change': avg_change})\n",
        "\n",
        "results_df = pd.DataFrame(results)\n",
        "print(results_df)"
      ],
      "metadata": {
        "id": "OsMy7ZXaHe18",
        "colab": {
          "base_uri": "https://localhost:8080/"
        },
        "outputId": "975549ef-0125-42fe-c475-6ca84a7c10a6"
      },
      "id": "OsMy7ZXaHe18",
      "execution_count": 3,
      "outputs": [
        {
          "output_type": "stream",
          "name": "stdout",
          "text": [
            "  Income Group     Period  Avg GDP % Change\n",
            "0          LIC  2000-2022        132.798987\n",
            "1          LIC  2010-2022          3.285398\n",
            "2          LMC  2000-2022        333.581013\n",
            "3          LMC  2010-2022         62.417742\n",
            "4          MIC  2000-2022        397.065083\n",
            "5          MIC  2010-2022         70.792248\n",
            "6          UMC  2000-2022        451.376997\n",
            "7          UMC  2010-2022         79.266182\n",
            "8          HIC  2000-2022        106.967102\n",
            "9          HIC  2010-2022         29.770288\n"
          ]
        }
      ]
    },
    {
      "cell_type": "markdown",
      "source": [],
      "metadata": {
        "id": "GNzRCLvh0kI8"
      },
      "id": "GNzRCLvh0kI8"
    },
    {
      "cell_type": "markdown",
      "source": [
        "# **2.4. MILESTONE 4: TOP 5 COUNTRIES INCREASE GDP PER INCOME-GROUP**\n",
        "\n",
        "For each of the income groups included in Milestone 3 and the period 2010-2022 list the Top 5 countries in terms of %GDPR per capita increase along with the value\n",
        "\n",
        "**NOTE**: Do not consider the countries for which you do not have data either in 2010 or 2022 or both of them"
      ],
      "metadata": {
        "id": "HOqhV6MaQKLg"
      },
      "id": "HOqhV6MaQKLg"
    },
    {
      "cell_type": "code",
      "source": [
        "# Function to filter countries by income group\n",
        "def filter_countries_by_income_group(countries_data, income_group):\n",
        "    # Filter countries by region and capital city conditions\n",
        "    country_codes = [c['id'] for c in countries_data if c['region']['value'] != \"Aggregates\"\n",
        "                     and c[\"capitalCity\"] != \"\" and \")\" not in c[\"name\"]]\n",
        "    # Further filter by income group\n",
        "    filtered_countries = [country for country in country_codes\n",
        "                          if next(c for c in countries_data if c['id'] == country)['incomeLevel']['id'] == income_group]\n",
        "    return filtered_countries\n",
        "\n",
        "\n",
        "# Function to get GDP per capita data for an income group\n",
        "def get_gdp_data(filtered_country_codes):\n",
        "    if not filtered_country_codes:  # Check if there are any country codes\n",
        "        return pd.DataFrame()  # Return an empty DataFrame if no countries\n",
        "    country_codes_str = ';'.join(filtered_country_codes)  # Join country codes into a single string\n",
        "    url = f\"https://api.worldbank.org/v2/country/{country_codes_str}/indicator/NY.GDP.PCAP.CD?date=2010:2022&format=json&per_page=1000\"\n",
        "    response = requests.get(url)\n",
        "    data = response.json()[1]\n",
        "    df = pd.DataFrame(data)[['country', 'date', 'value']]\n",
        "    df['country'] = df['country'].apply(lambda x: x['value'])\n",
        "    return df\n",
        "\n",
        "# Function to get the Top 5 countries with the largest percentage change in GDP per capita\n",
        "def get_top_5_countries(df, start_year, end_year):\n",
        "    if df.empty:  # Check if DataFrame is empty\n",
        "        return pd.DataFrame()  # Return an empty DataFrame if no data\n",
        "    df_start = df[df['date'] == str(start_year)]\n",
        "    df_end = df[df['date'] == str(end_year)]\n",
        "    df_combined = pd.merge(df_start, df_end, on='country', suffixes=('_start', '_end'))\n",
        "\n",
        "    # Calculate the percentage change in GDP per capita\n",
        "    df_combined['gdp_change'] = 100 * (df_combined['value_end'] - df_combined['value_start']) / df_combined['value_start']\n",
        "\n",
        "    # Sort by percentage change in descending order\n",
        "    df_combined = df_combined.sort_values(by='gdp_change', ascending=False)\n",
        "\n",
        "    # Select the Top 5 countries with the largest increase\n",
        "    top_5 = df_combined[['country', 'gdp_change']].head(5)\n",
        "\n",
        "    return top_5\n",
        "\n",
        "# -------------------- MAIN FUNCTION CALLS --------------------\n",
        "\n",
        "# Get the results for each income group\n",
        "top_5_results = {}\n",
        "\n",
        "for group in income_groups:\n",
        "    # For each income group, get the filtered countries and their GDP data\n",
        "    filtered_countries = filter_countries_by_income_group(countries, group)\n",
        "\n",
        "    if not filtered_countries:  # Check if no countries were filtered\n",
        "        print(f\"No countries found for income group: {group}\")\n",
        "        continue  # Skip to the next income group if no countries found\n",
        "\n",
        "    df = get_gdp_data(filtered_countries)\n",
        "\n",
        "    if df.empty:  # Check if the GDP data is empty\n",
        "        print(f\"No GDP data found for income group: {group}\")\n",
        "        continue  # Skip to the next income group if no GDP data available\n",
        "\n",
        "    top_5_countries = get_top_5_countries(df, 2010, 2022)  # Get the Top 5 for 2010-2022\n",
        "\n",
        "    if top_5_countries.empty:  # Check if the top 5 result is empty\n",
        "        print(f\"No top 5 countries found for income group: {group}\")\n",
        "        continue  # Skip to the next income group if no top 5 found\n",
        "\n",
        "    top_5_countries['Income Group'] = group  # Add the income group\n",
        "    top_5_results[group] = top_5_countries  # Store in the dictionary by group\n",
        "\n",
        "# Display the results\n",
        "for group, top_5 in top_5_results.items():\n",
        "    print(f\"Top 5 countries with the largest increase in GDP per capita for the {group} income group (2010-2022):\")\n",
        "    print(top_5)\n",
        "    print(\"\\n\")"
      ],
      "metadata": {
        "id": "Omzo5PZ8HnbI",
        "colab": {
          "base_uri": "https://localhost:8080/"
        },
        "outputId": "6427dbb2-667a-47d2-f186-f081d5049875"
      },
      "id": "Omzo5PZ8HnbI",
      "execution_count": 4,
      "outputs": [
        {
          "output_type": "stream",
          "name": "stdout",
          "text": [
            "No countries found for income group: MIC\n",
            "Top 5 countries with the largest increase in GDP per capita for the LIC income group (2010-2022):\n",
            "             country  gdp_change Income Group\n",
            "6           Ethiopia  206.315061          LIC\n",
            "19           Somalia  164.937788          LIC\n",
            "4   Congo, Dem. Rep.  104.598773          LIC\n",
            "16            Rwanda   62.690758          LIC\n",
            "9            Liberia   51.811254          LIC\n",
            "\n",
            "\n",
            "Top 5 countries with the largest increase in GDP per capita for the LMC income group (2010-2022):\n",
            "        country  gdp_change Income Group\n",
            "2    Bangladesh  246.006100          LMC\n",
            "41  Timor-Leste  194.895984          LMC\n",
            "10     Djibouti  166.988355          LMC\n",
            "45     Viet Nam  148.158110          LMC\n",
            "32        Nepal  128.824895          LMC\n",
            "\n",
            "\n",
            "Top 5 countries with the largest increase in GDP per capita for the UMC income group (2010-2022):\n",
            "             country  gdp_change Income Group\n",
            "9              China  178.269546          UMC\n",
            "30           Moldova  134.540452          UMC\n",
            "2            Armenia  123.289395          UMC\n",
            "33  Marshall Islands  107.013120          UMC\n",
            "46      Turkmenistan  105.103653          UMC\n",
            "\n",
            "\n",
            "Top 5 countries with the largest increase in GDP per capita for the HIC income group (2010-2022):\n",
            "      country  gdp_change Income Group\n",
            "32     Guyana  296.513734          HIC\n",
            "53      Nauru  161.452207          HIC\n",
            "36    Ireland  113.677760          HIC\n",
            "56     Panama  113.643967          HIC\n",
            "44  Lithuania  109.207322          HIC\n",
            "\n",
            "\n"
          ]
        }
      ]
    },
    {
      "cell_type": "markdown",
      "source": [
        "# **2.5. MILESTONE 5: CO2 emission per capita**\n",
        "\n",
        "Retrieve the most recent non empty value for the amount of CO2 emission per capita (metric tons per country) for all the countries. Display the 30 countries with the highest CO2 emission per capita along with their value and the year related to that value.\n",
        "\n",
        "**NOTE**: You cannot search manually the year and use it in your query for this milestone.\n"
      ],
      "metadata": {
        "id": "lbWffR2QwNuh"
      },
      "id": "lbWffR2QwNuh"
    },
    {
      "cell_type": "code",
      "source": [
        "import requests\n",
        "import pandas as pd\n",
        "\n",
        "co2data = []\n",
        "\n",
        "co2_url = f\"https://api.worldbank.org/v2/country/all/indicator/EN.ATM.CO2E.PC?format=json&mrnev=1&per_page=1000\"\n",
        "response = requests.get(co2_url).json()\n",
        "\n",
        "\n",
        "# Check if data is returned\n",
        "for entry in response[1]:\n",
        "        # Append CO2 data for each country to the list\n",
        "        if entry['countryiso3code'] in country_codes:\n",
        "          co2data.append({\n",
        "              'country_name': entry['country']['value'],\n",
        "              'co2_per_capita': entry['value'],\n",
        "              'year': entry['date']\n",
        "          })\n",
        "\n",
        "# We sort the df and get the firt 30\n",
        "co2df = pd.DataFrame(co2data).sort_values(by='co2_per_capita', ascending=False).head(30)\n",
        "\n",
        "print(\"Top 30 countries with the highest CO2 emissions per capita:\")\n",
        "print(co2df)"
      ],
      "metadata": {
        "id": "Q3FUei05HuAM",
        "colab": {
          "base_uri": "https://localhost:8080/"
        },
        "outputId": "dede8b99-89d8-4dad-81ff-dbd97b6c706b"
      },
      "id": "Q3FUei05HuAM",
      "execution_count": 5,
      "outputs": [
        {
          "output_type": "stream",
          "name": "stdout",
          "text": [
            "Top 30 countries with the highest CO2 emissions per capita:\n",
            "             country_name  co2_per_capita  year\n",
            "138                 Qatar       31.726842  2020\n",
            "12                Bahrain       21.976908  2020\n",
            "24      Brunei Darussalam       21.705812  2020\n",
            "90                 Kuwait       21.169610  2020\n",
            "179  United Arab Emirates       20.252272  2020\n",
            "128                  Oman       15.636201  2020\n",
            "8               Australia       14.776137  2020\n",
            "144          Saudi Arabia       14.266585  2020\n",
            "31                 Canada       13.591696  2020\n",
            "181         United States       13.032222  2020\n",
            "100            Luxembourg       12.456953  2020\n",
            "85             Kazakhstan       11.297743  2020\n",
            "140    Russian Federation       11.141653  2020\n",
            "89            Korea, Rep.       10.990030  2020\n",
            "175          Turkmenistan       10.184086  2020\n",
            "172   Trinidad and Tobago       10.157119  2020\n",
            "130                 Palau        8.802582  2020\n",
            "45                Czechia        8.304017  2020\n",
            "83                  Japan        8.031496  2020\n",
            "35                  China        7.756138  2020\n",
            "149             Singapore        7.686684  2020\n",
            "121           Netherlands        7.471553  2020\n",
            "16                Belgium        7.398131  2020\n",
            "103              Malaysia        7.383715  2020\n",
            "136                Poland        7.367563  2020\n",
            "64                Germany        7.255221  2020\n",
            "78     Iran, Islamic Rep.        7.063351  2020\n",
            "80                Ireland        6.768228  2020\n",
            "127                Norway        6.725080  2020\n",
            "146                Serbia        6.714517  2020\n"
          ]
        }
      ]
    }
  ],
  "metadata": {
    "colab": {
      "provenance": []
    },
    "kernelspec": {
      "display_name": "Python 3",
      "language": "python",
      "name": "python3"
    },
    "language_info": {
      "codemirror_mode": {
        "name": "ipython",
        "version": 3
      },
      "file_extension": ".py",
      "mimetype": "text/x-python",
      "name": "python",
      "nbconvert_exporter": "python",
      "pygments_lexer": "ipython3",
      "version": "3.6.8"
    }
  },
  "nbformat": 4,
  "nbformat_minor": 5
}